{
 "nbformat": 4,
 "nbformat_minor": 0,
 "metadata": {
  "colab": {
   "provenance": []
  },
  "kernelspec": {
   "name": "python3",
   "language": "python",
   "display_name": "Python 3 (ipykernel)"
  },
  "language_info": {
   "name": "python"
  }
 },
 "cells": [
  {
   "cell_type": "code",
   "execution_count": 2,
   "metadata": {
    "id": "ahJbwHTIFvGz",
    "ExecuteTime": {
     "end_time": "2024-02-25T09:11:53.011863400Z",
     "start_time": "2024-02-25T09:11:51.748379200Z"
    }
   },
   "outputs": [
    {
     "name": "stderr",
     "output_type": "stream",
     "text": [
      "Importing plotly failed. Interactive plots will not work.\n"
     ]
    }
   ],
   "source": [
    "import pandas as pd\n",
    "from prophet import Prophet\n",
    "import numpy as np\n",
    "import holidays\n",
    "from prophet.diagnostics import cross_validation\n",
    "import pandas as pd\n",
    "import numpy as np\n",
    "import itertools\n",
    "from datetime import date\n",
    "import holidays\n",
    "from prophet import Prophet\n",
    "from prophet.diagnostics import cross_validation\n",
    "from prophet.diagnostics import performance_metrics\n",
    "from prophet.plot import plot_cross_validation_metric"
   ]
  },
  {
   "cell_type": "code",
   "source": [
    "def get_df(partner):\n",
    "    df = pd.read_csv('partners-table.csv')\n",
    "    df = df.drop('month', axis=1)\n",
    "    df = df.drop('Unnamed: 4', axis=1)\n",
    "    df = df[(df['merchant_name'] == partner)]\n",
    "    df = df.drop('merchant_name', axis=1)\n",
    "    df = df.reset_index(drop=True)\n",
    "    df = df.rename(columns={\"day\": \"ds\", \"cashback\":\"y\"})\n",
    "    df['ds'] = pd.to_datetime(df['ds'])\n",
    "    df['day_of_week'] = df['ds'].dt.dayofweek\n",
    "    return df"
   ],
   "metadata": {
    "id": "ehSoUv0vF2GU",
    "ExecuteTime": {
     "end_time": "2024-02-25T09:11:57.044765300Z",
     "start_time": "2024-02-25T09:11:57.032355300Z"
    }
   },
   "execution_count": 7,
   "outputs": []
  },
  {
   "cell_type": "code",
   "source": [
    "# Вкидываем праздники, для их учёта моделькой\n",
    "holidays_dict = holidays.RU(years=(2022, 2023))\n",
    "df_holidays = pd.DataFrame.from_dict(holidays_dict, orient='index') \\\n",
    "    .reset_index()\n",
    "df_holidays = df_holidays.rename({'index':'ds', 0:'holiday'}, axis ='columns')\n",
    "df_holidays['ds'] = pd.to_datetime(df_holidays.ds)\n",
    "df_holidays = df_holidays.sort_values(by=['ds'])\n",
    "df_holidays = df_holidays.reset_index(drop=True)\n",
    "print(df_holidays)"
   ],
   "metadata": {
    "colab": {
     "base_uri": "https://localhost:8080/"
    },
    "id": "gBkRcFO1LC0y",
    "outputId": "6a4b5590-03e6-4208-eeb7-52fc5f6272a8",
    "ExecuteTime": {
     "end_time": "2024-02-25T09:11:59.416632500Z",
     "start_time": "2024-02-25T09:11:59.400604400Z"
    }
   },
   "execution_count": 8,
   "outputs": [
    {
     "name": "stdout",
     "output_type": "stream",
     "text": [
      "           ds                      holiday\n",
      "0  2022-01-01            New Year Holidays\n",
      "1  2022-01-02            New Year Holidays\n",
      "2  2022-01-03            New Year Holidays\n",
      "3  2022-01-04            New Year Holidays\n",
      "4  2022-01-05            New Year Holidays\n",
      "5  2022-01-06            New Year Holidays\n",
      "6  2022-01-07                Christmas Day\n",
      "7  2022-01-08            New Year Holidays\n",
      "8  2022-02-23    Fatherland Defender's Day\n",
      "9  2022-03-08    International Women's Day\n",
      "10 2022-05-01  Holiday of Spring and Labor\n",
      "11 2022-05-09                  Victory Day\n",
      "12 2022-06-12                   Russia Day\n",
      "13 2022-11-04                    Unity Day\n",
      "14 2023-01-01            New Year Holidays\n",
      "15 2023-01-02            New Year Holidays\n",
      "16 2023-01-03            New Year Holidays\n",
      "17 2023-01-04            New Year Holidays\n",
      "18 2023-01-05            New Year Holidays\n",
      "19 2023-01-06            New Year Holidays\n",
      "20 2023-01-07                Christmas Day\n",
      "21 2023-01-08            New Year Holidays\n",
      "22 2023-02-23    Fatherland Defender's Day\n",
      "23 2023-02-24    Fatherland Defender's Day\n",
      "24 2023-03-08    International Women's Day\n",
      "25 2023-05-01  Holiday of Spring and Labor\n",
      "26 2023-05-08                  Victory Day\n",
      "27 2023-05-09                  Victory Day\n",
      "28 2023-06-12                   Russia Day\n",
      "29 2023-11-04                    Unity Day\n"
     ]
    }
   ]
  },
  {
   "cell_type": "code",
   "source": [
    "# Кол-во дней, которые надо отрезать и предсказать\n",
    "predictions = 30"
   ],
   "metadata": {
    "id": "oXf_2sJDJoq7",
    "ExecuteTime": {
     "end_time": "2024-02-25T09:12:00.972202Z",
     "start_time": "2024-02-25T09:12:00.958915900Z"
    }
   },
   "execution_count": 9,
   "outputs": []
  },
  {
   "cell_type": "code",
   "source": [
    "# Отрезаем из обучающей выборки последние N точек, чтобы измерить на них качество\n",
    "train_df = df"
   ],
   "metadata": {
    "id": "voO9bBTSKa8i",
    "ExecuteTime": {
     "end_time": "2024-02-25T09:12:01.773896600Z",
     "start_time": "2024-02-25T09:12:01.747044300Z"
    }
   },
   "execution_count": 10,
   "outputs": [
    {
     "ename": "NameError",
     "evalue": "name 'df' is not defined",
     "output_type": "error",
     "traceback": [
      "\u001B[1;31m---------------------------------------------------------------------------\u001B[0m",
      "\u001B[1;31mNameError\u001B[0m                                 Traceback (most recent call last)",
      "Cell \u001B[1;32mIn[10], line 2\u001B[0m\n\u001B[0;32m      1\u001B[0m \u001B[38;5;66;03m# Отрезаем из обучающей выборки последние N точек, чтобы измерить на них качество\u001B[39;00m\n\u001B[1;32m----> 2\u001B[0m train_df \u001B[38;5;241m=\u001B[39m \u001B[43mdf\u001B[49m\n",
      "\u001B[1;31mNameError\u001B[0m: name 'df' is not defined"
     ]
    }
   ]
  },
  {
   "cell_type": "code",
   "source": [
    "def get_best_params(df):\n",
    "\n",
    "    # Покрутим разные комбинации гиперпараметров\n",
    "    dif_days = int((pd.to_datetime(df[\"ds\"].max()) - pd.to_datetime(df[\"ds\"].min())).days) // 2\n",
    "    param_grid = {\n",
    "        'changepoint_prior_scale': [0.25, 0.05, 0.1], ## по умолчанию 0.05, попробуем увеличить и уменьшить в два раза\n",
    "        'seasonality_prior_scale': [5.0, 10.0, 20.0], ## по умолчанию 10.0, попробуем увеличить и уменьшить в два раза\n",
    "        'holidays_prior_scale': [5.0, 10.0, 20.0], ## по умолчанию 10.0, попробуем увеличить и уменьшить в два раза\n",
    "    }\n",
    "    \n",
    "    # Создаем все комбинации параметров\n",
    "    all_params = [dict(zip(param_grid.keys(), v)) for v in itertools.product(*param_grid.values())]\n",
    "    mapes = []  # Сюда будем складывать метрику MAPE\n",
    "    \n",
    "    # Крутим кроссвалидацию со всеми комбинациями параметров\n",
    "    for params in all_params:\n",
    "        m = Prophet(**params, holidays=df_holidays, daily_seasonality=\"auto\", weekly_seasonality=\"auto\", yearly_seasonality=\"auto\")\n",
    "        m.add_regressor('day_of_week')\n",
    "        m.fit(df)  # Fit model with given params\n",
    "        df_cv = cross_validation(m, initial=f'{dif_days} days', period=f'{dif_days//6} days', horizon = f'{dif_days//3 } days', parallel=\"processes\")\n",
    "        df_p = performance_metrics(df_cv, rolling_window=1) ## тут окно для подсчета метрики 1, чтобы метрика считалась по всему горизонту\n",
    "        mapes.append(df_p['mape'].values[0])\n",
    "    \n",
    "    # Смотрим на результаты с разными параметрами\n",
    "    tuning_results = pd.DataFrame(all_params)\n",
    "    tuning_results['mape'] = mapes\n",
    "    return all_params[np.argmin(mapes)]\n",
    "    "
   ],
   "metadata": {
    "colab": {
     "base_uri": "https://localhost:8080/"
    },
    "id": "6k99LTYSc9lW",
    "outputId": "2f8e91c8-2028-4fed-c8c6-83f9351a060a",
    "ExecuteTime": {
     "end_time": "2024-02-25T09:12:02.677651800Z",
     "start_time": "2024-02-25T09:12:02.654205400Z"
    }
   },
   "execution_count": 11,
   "outputs": []
  },
  {
   "cell_type": "code",
   "source": [
    "# # Отображаем лучшие параметры\n",
    "# best_params = all_params[np.argmin(mapes)]\n",
    "# print(best_params)\n",
    "# print(best_params[\"changepoint_prior_scale\"])"
   ],
   "metadata": {
    "colab": {
     "base_uri": "https://localhost:8080/"
    },
    "id": "m7KfQrQxiDsl",
    "outputId": "232653dc-e54e-4611-b21a-0d8b7be9bb58",
    "ExecuteTime": {
     "end_time": "2024-02-25T09:12:03.730288900Z",
     "start_time": "2024-02-25T09:12:03.721766100Z"
    }
   },
   "execution_count": 12,
   "outputs": []
  },
  {
   "cell_type": "code",
   "source": [
    "def predict(df, days):\n",
    "    m = Prophet(holidays=df_holidays, daily_seasonality=\"auto\", weekly_seasonality=\"auto\", yearly_seasonality=\"auto\")\n",
    "                # changepoint_prior_scale=best_params[\"changepoint_prior_scale\"], seasonality_prior_scale=best_params[\"seasonality_prior_scale\"], holidays_prior_scale=best_params[\"holidays_prior_scale\"])\n",
    "    m.add_regressor('day_of_week')\n",
    "    m.fit(df)\n",
    "    future = df[['ds']].copy()\n",
    "    future = m.make_future_dataframe(days)\n",
    "    future['day_of_week'] = future['ds'].dt.dayofweek\n",
    "    forecast = m.predict(future)\n",
    "    return forecast\n",
    "    # forecast[['ds', 'yhat', 'yhat_lower', 'yhat_upper']].tail()\n",
    "    "
   ],
   "metadata": {
    "colab": {
     "base_uri": "https://localhost:8080/",
     "height": 771
    },
    "id": "bkrQka-2G7Ts",
    "outputId": "43f59612-6589-4655-9918-3b898b22c1da",
    "ExecuteTime": {
     "end_time": "2024-02-25T10:41:24.017381900Z",
     "start_time": "2024-02-25T10:41:24.006865500Z"
    }
   },
   "execution_count": 27,
   "outputs": []
  },
  {
   "cell_type": "code",
   "outputs": [],
   "source": [
    "def get_end_date(partner, ndf, df):\n",
    "    with open('partners.json') as f:\n",
    "        partners = json.load(f)\n",
    "    l = []\n",
    "    c = 10\n",
    "    while int(ndf[\"trend\"].sum()) < int(partner[\"budget\"]):\n",
    "        c += 20\n",
    "        ndf = predict(df, c)\n",
    "        l = ndf[[\"ds\", \"trend\"]]\n",
    "    s = 0\n",
    "    for i in l[\"trend\"]:\n",
    "        if s <= int(partner[\"budget\"]):\n",
    "            s += i\n",
    "        else:\n",
    "            partner[\"stoped_date\"] = str(l.loc[l['trend'] == i, 'ds'])\n",
    "            break\n",
    "    with open('partners.json', 'w') as file:\n",
    "        json.dump(partners, file)\n",
    "    \n",
    "    "
   ],
   "metadata": {
    "collapsed": false,
    "ExecuteTime": {
     "end_time": "2024-02-25T11:27:22.774756100Z",
     "start_time": "2024-02-25T11:27:22.762977100Z"
    }
   },
   "execution_count": 49
  },
  {
   "cell_type": "code",
   "outputs": [
    {
     "name": "stdout",
     "output_type": "stream",
     "text": [
      " * Serving Flask app '__main__'\n",
      " * Debug mode: off\n"
     ]
    },
    {
     "name": "stderr",
     "output_type": "stream",
     "text": [
      "WARNING: This is a development server. Do not use it in a production deployment. Use a production WSGI server instead.\n",
      " * Running on http://127.0.0.1:8080\n",
      "Press CTRL+C to quit\n",
      "[2024-02-25 14:49:52,208] ERROR in app: Exception on /api/partners/3/cashback [PUT]\n",
      "Traceback (most recent call last):\n",
      "  File \"C:\\Users\\Admin\\AppData\\Local\\Programs\\Python\\Python312\\Lib\\site-packages\\flask\\app.py\", line 1463, in wsgi_app\n",
      "    response = self.full_dispatch_request()\n",
      "               ^^^^^^^^^^^^^^^^^^^^^^^^^^^^\n",
      "  File \"C:\\Users\\Admin\\AppData\\Local\\Programs\\Python\\Python312\\Lib\\site-packages\\flask\\app.py\", line 872, in full_dispatch_request\n",
      "    rv = self.handle_user_exception(e)\n",
      "         ^^^^^^^^^^^^^^^^^^^^^^^^^^^^^\n",
      "  File \"C:\\Users\\Admin\\AppData\\Local\\Programs\\Python\\Python312\\Lib\\site-packages\\flask\\app.py\", line 870, in full_dispatch_request\n",
      "    rv = self.dispatch_request()\n",
      "         ^^^^^^^^^^^^^^^^^^^^^^^\n",
      "  File \"C:\\Users\\Admin\\AppData\\Local\\Programs\\Python\\Python312\\Lib\\site-packages\\flask\\app.py\", line 855, in dispatch_request\n",
      "    return self.ensure_sync(self.view_functions[rule.endpoint])(**view_args)  # type: ignore[no-any-return]\n",
      "           ^^^^^^^^^^^^^^^^^^^^^^^^^^^^^^^^^^^^^^^^^^^^^^^^^^^^^^^^^^^^^^^^^\n",
      "  File \"C:\\Users\\Admin\\AppData\\Local\\Temp\\ipykernel_3028\\2293796756.py\", line 66, in update_cashback\n",
      "    stopped_date = date(int(date_str[0]), int(date_str[1]), int(date_str[2]))\n",
      "                   ^^^^^^^^^^^^^^^^^^^^^^^^^^^^^^^^^^^^^^^^^^^^^^^^^^^^^^^^^^\n",
      "TypeError: 'Timestamp' object is not callable\n",
      "127.0.0.1 - - [25/Feb/2024 14:49:52] \"PUT /api/partners/3/cashback HTTP/1.1\" 500 -\n"
     ]
    },
    {
     "name": "stdout",
     "output_type": "stream",
     "text": [
      "316   2023-11-17\n",
      "Name: ds, dtype: datetime64[ns]\n"
     ]
    }
   ],
   "source": [
    "import json\n",
    "from flask import Flask, request, jsonify, render_template\n",
    "\n",
    "with open('partners.json') as f:\n",
    "    partners = json.load(f)\n",
    "    \n",
    "    \n",
    "\n",
    "    \n",
    "\n",
    "\n",
    "\n",
    "def get_partner_by_id(id): #получение партнера по id\n",
    "    for partner in partners[\"partners\"]:\n",
    "        if partner[\"id\"] == id:\n",
    "            return partner\n",
    "    return jsonify({\"error\": \"Партнер с данным ID не найден\"}), 404\n",
    "\n",
    "\n",
    "app = Flask(__name__)\n",
    "\n",
    "\n",
    "@app.route('/')\n",
    "def index():\n",
    "    return render_template(\"index.html\")\n",
    "\n",
    "@app.route('/api/partners', methods=['POST']) #Создание партнеров с бюджетами\n",
    "def create_partner():\n",
    "    partner_name = request.args.get('name')\n",
    "    partner_budget = request.args.get('budget')\n",
    "    df = get_df(partner_name)\n",
    "    #best_params = get_best_params(df)\n",
    "    ndf = predict(df, 10)\n",
    "    get_end_date(partner_name, ndf, df)\n",
    "    \n",
    "    partner = {\n",
    "        \"id\": len(partners[\"partners\"]) + 1,\n",
    "        \"name\": partner_name,\n",
    "        \"budget\": partner_budget,\n",
    "        \"spent_budget\": 0,\n",
    "        \"best_params\": best_params,\n",
    "        \"is_stopped\": \"False\",\n",
    "    }\n",
    "\n",
    "    partners[\"partners\"].append(partner)\n",
    "    with open('partners.json', 'w') as file:\n",
    "        json.dump(partners, file)\n",
    "    return jsonify(partner), 200\n",
    "\n",
    "\n",
    "@app.route('/api/partners/<int:id>', methods=['GET']) # Получение информации о партнере\n",
    "def get_partner(id):\n",
    "    get_partner_by_id(id)\n",
    "\n",
    "\n",
    "@app.route('/api/partners/<int:id>/cashback', methods=['PUT']) #обновление данных о выплаченном кэшбэке\n",
    "def update_cashback(id):\n",
    "    data = request.json\n",
    "    date = data.get(\"date\")\n",
    "    date = pd.to_datetime(date)\n",
    "    cashback_amount = data.get(\"cashback\")\n",
    "    partner = get_partner_by_id(id)\n",
    "    print(partner[\"stoped_date\"])\n",
    "    date_str = partner[\"stoped_date\"].split(\"\\n\")[0].split(\"   \")[1].split(\"-\")\n",
    "    #stopped_date = date(int(date_str[0]), int(date_str[1]), int(date_str[2]))\n",
    "    s7\n",
    "    #if date >= stopped_date: # partner[\"stoped_date\"]:\n",
    "        #partner[\"is_stopped\"] = \"True\"\n",
    "    \n",
    "    partner['spent_budget'] = cashback_amount\n",
    "    df = get_df(partner[\"name\"])\n",
    "    df = df._append({\"ds\": date, \"y\": cashback_amount, \"day_of_week\": 0}, ignore_index=True)     \n",
    "    ndf = predict(df, 10)\n",
    "    get_end_date(partner, ndf, df)\n",
    "    \n",
    "    \n",
    "    \n",
    "    \n",
    "    with open('partners.json', 'w') as file:\n",
    "        json.dump(partners, file)\n",
    "    return jsonify(partner), 200\n",
    "\n",
    "\n",
    "    \n",
    "\n",
    "\n",
    "if __name__ == '__main__':\n",
    "  app.run(port=8080)"
   ],
   "metadata": {
    "collapsed": false,
    "is_executing": true,
    "ExecuteTime": {
     "start_time": "2024-02-25T11:49:44.624764400Z"
    }
   },
   "execution_count": null
  },
  {
   "cell_type": "code",
   "outputs": [],
   "source": [
    "\n",
    "\n"
   ],
   "metadata": {
    "collapsed": false,
    "ExecuteTime": {
     "end_time": "2024-02-25T11:42:03.083095600Z",
     "start_time": "2024-02-25T11:42:03.073033400Z"
    }
   },
   "execution_count": 56
  },
  {
   "cell_type": "code",
   "outputs": [],
   "source": [],
   "metadata": {
    "collapsed": false,
    "ExecuteTime": {
     "start_time": "2024-02-25T09:11:53.723920200Z"
    }
   }
  }
 ]
}
